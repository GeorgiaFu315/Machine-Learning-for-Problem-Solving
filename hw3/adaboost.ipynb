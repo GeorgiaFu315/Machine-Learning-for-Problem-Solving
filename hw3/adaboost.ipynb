{
 "cells": [
  {
   "cell_type": "code",
   "execution_count": 28,
   "metadata": {},
   "outputs": [
    {
     "name": "stdout",
     "output_type": "stream",
     "text": [
      "error= 0.25\n",
      "a= 0.5493061443340549\n",
      "beta [0.16666667 0.5        0.16666667 0.16666667]\n"
     ]
    }
   ],
   "source": [
    "import numpy as np\n",
    "beta=[0.25 for i in range(4)]\n",
    "y_true=[-1,1,1,-1]\n",
    "y_pred_list=[]\n",
    "a_list=[]\n",
    "b=1\n",
    "y_pred=[-1,-1,1,-1]\n",
    "y_pred_list.append(y_pred)\n",
    "error=sum([beta[i]*(y_pred[i]!=y_true[i]) for i in range(4)])/sum(beta)\n",
    "print('error=',error)\n",
    "a=0.5*np.log((1-error)/error)\n",
    "a_list.append(a)\n",
    "print('a=',a)\n",
    "beta_new=beta.copy()\n",
    "for i in range(4):\n",
    "    beta_new[i]=beta[i]*np.exp(-a*y_true[i]*y_pred[i])\n",
    "beta_new=beta_new/sum(beta_new)\n",
    "beta=beta_new.copy()\n",
    "print('beta',beta)"
   ]
  },
  {
   "cell_type": "code",
   "execution_count": 29,
   "metadata": {},
   "outputs": [
    {
     "name": "stdout",
     "output_type": "stream",
     "text": [
      "error= 0.16666666666666666\n",
      "a= 0.8047189562170503\n",
      "beta [0.1 0.3 0.1 0.5]\n"
     ]
    }
   ],
   "source": [
    "b=2#x2>=0, y=1\n",
    "y_pred=[-1,1,1,1]\n",
    "y_pred_list.append(y_pred)\n",
    "error=sum([beta[i]*(y_pred[i]!=y_true[i]) for i in range(4)])/sum(beta)\n",
    "print('error=',error)\n",
    "a=0.5*np.log((1-error)/error)\n",
    "a_list.append(a)\n",
    "print('a=',a)\n",
    "beta_new=beta.copy()\n",
    "for i in range(4):\n",
    "    beta_new[i]=beta[i]*np.exp(-a*y_true[i]*y_pred[i])\n",
    "beta_new=beta_new/sum(beta_new)\n",
    "beta=beta_new.copy()\n",
    "print('beta',beta)"
   ]
  },
  {
   "cell_type": "code",
   "execution_count": 30,
   "metadata": {},
   "outputs": [
    {
     "name": "stdout",
     "output_type": "stream",
     "text": [
      "error= 0.09999999999999996\n",
      "a= 1.0986122886681098\n",
      "beta [0.05555556 0.16666667 0.5        0.27777778]\n"
     ]
    }
   ],
   "source": [
    "b=3#x1>0.5, y=1\n",
    "y_pred=[-1,1,-1,-1]\n",
    "y_pred_list.append(y_pred)\n",
    "error=sum([beta[i]*(y_pred[i]!=y_true[i]) for i in range(4)])/sum(beta)\n",
    "print('error=',error)\n",
    "a=0.5*np.log((1-error)/error)\n",
    "a_list.append(a)\n",
    "print('a=',a)\n",
    "beta_new=beta.copy()\n",
    "for i in range(4):\n",
    "    beta_new[i]=beta[i]*np.exp(-a*y_true[i]*y_pred[i])\n",
    "beta_new=beta_new/sum(beta_new)\n",
    "beta=beta_new.copy()\n",
    "print('beta',beta)"
   ]
  },
  {
   "cell_type": "code",
   "execution_count": 31,
   "metadata": {},
   "outputs": [
    {
     "name": "stdout",
     "output_type": "stream",
     "text": [
      "error= 0.055555555555555546\n",
      "a= 1.416606672028108\n",
      "beta [0.5        0.08823529 0.26470588 0.14705882]\n"
     ]
    }
   ],
   "source": [
    "b=4#x2>0.5, y=-1\n",
    "y_pred=[1,1,1,-1]\n",
    "y_pred_list.append(y_pred)\n",
    "error=sum([beta[i]*(y_pred[i]!=y_true[i]) for i in range(4)])/sum(beta)\n",
    "print('error=',error)\n",
    "a=0.5*np.log((1-error)/error)\n",
    "a_list.append(a)\n",
    "print('a=',a)\n",
    "beta_new=beta.copy()\n",
    "for i in range(4):\n",
    "    beta_new[i]=beta[i]*np.exp(-a*y_true[i]*y_pred[i])\n",
    "beta_new=beta_new/sum(beta_new)\n",
    "beta=beta_new.copy()\n",
    "print('beta',beta)"
   ]
  },
  {
   "cell_type": "code",
   "execution_count": 41,
   "metadata": {},
   "outputs": [
    {
     "data": {
      "text/plain": [
       "array([0.10986123, 0.21972246, 0.16479184, 0.05493061])"
      ]
     },
     "execution_count": 41,
     "metadata": {},
     "output_type": "execute_result"
    }
   ],
   "source": [
    "np.array([0.2,0.4,0.3,0.1])*a_list[0]"
   ]
  },
  {
   "cell_type": "code",
   "execution_count": 43,
   "metadata": {},
   "outputs": [
    {
     "name": "stdout",
     "output_type": "stream",
     "text": [
      "[[-1, -1, 1, -1], [-1, 1, 1, 1], [-1, 1, -1, -1], [1, 1, 1, -1]]\n",
      "[0.5493061443340549, 0.8047189562170503, 1.0986122886681098, 1.416606672028108]\n",
      "[-1.03603072  2.77063177  1.67201948 -2.25980615]\n"
     ]
    }
   ],
   "source": [
    "print(y_pred_list)\n",
    "print(a_list)\n",
    "print(sum([np.array(y_pred_list[i])*a_list[i] for i in range(4)]))"
   ]
  },
  {
   "cell_type": "code",
   "execution_count": 27,
   "metadata": {},
   "outputs": [
    {
     "name": "stdout",
     "output_type": "stream",
     "text": [
      "error= 0.0\n",
      "a= inf\n",
      "beta [nan nan nan nan]\n"
     ]
    },
    {
     "name": "stderr",
     "output_type": "stream",
     "text": [
      "C:\\Users\\georg\\Anaconda3\\lib\\site-packages\\ipykernel_launcher.py:6: RuntimeWarning: divide by zero encountered in double_scalars\n",
      "  \n",
      "C:\\Users\\georg\\Anaconda3\\lib\\site-packages\\ipykernel_launcher.py:11: RuntimeWarning: invalid value encountered in true_divide\n",
      "  # This is added back by InteractiveShellApp.init_path()\n"
     ]
    }
   ],
   "source": [
    "#final\n",
    "b=5#x2>0.5, y=-1\n",
    "\n",
    "y_pred=[-1,1,1,-1]\n",
    "error=sum([beta[i]*(y_pred[i]!=y_true[i]) for i in range(4)])/sum(beta)\n",
    "print('error=',error)\n",
    "a=0.5*np.log((1-error)/error)\n",
    "print('a=',a)\n",
    "beta_new=beta.copy()\n",
    "for i in range(4):\n",
    "    beta_new[i]=beta[i]*np.exp(-a*y_true[i]*y_pred[i])\n",
    "beta_new=beta_new/sum(beta_new)\n",
    "beta=beta_new.copy()\n",
    "print('beta',beta)"
   ]
  },
  {
   "cell_type": "code",
   "execution_count": null,
   "metadata": {},
   "outputs": [],
   "source": []
  }
 ],
 "metadata": {
  "kernelspec": {
   "display_name": "Python 3",
   "language": "python",
   "name": "python3"
  },
  "language_info": {
   "codemirror_mode": {
    "name": "ipython",
    "version": 3
   },
   "file_extension": ".py",
   "mimetype": "text/x-python",
   "name": "python",
   "nbconvert_exporter": "python",
   "pygments_lexer": "ipython3",
   "version": "3.7.3"
  },
  "toc": {
   "base_numbering": 1,
   "nav_menu": {},
   "number_sections": true,
   "sideBar": true,
   "skip_h1_title": false,
   "title_cell": "Table of Contents",
   "title_sidebar": "Contents",
   "toc_cell": false,
   "toc_position": {},
   "toc_section_display": true,
   "toc_window_display": false
  },
  "varInspector": {
   "cols": {
    "lenName": 16,
    "lenType": 16,
    "lenVar": 40
   },
   "kernels_config": {
    "python": {
     "delete_cmd_postfix": "",
     "delete_cmd_prefix": "del ",
     "library": "var_list.py",
     "varRefreshCmd": "print(var_dic_list())"
    },
    "r": {
     "delete_cmd_postfix": ") ",
     "delete_cmd_prefix": "rm(",
     "library": "var_list.r",
     "varRefreshCmd": "cat(var_dic_list()) "
    }
   },
   "types_to_exclude": [
    "module",
    "function",
    "builtin_function_or_method",
    "instance",
    "_Feature"
   ],
   "window_display": false
  }
 },
 "nbformat": 4,
 "nbformat_minor": 2
}
