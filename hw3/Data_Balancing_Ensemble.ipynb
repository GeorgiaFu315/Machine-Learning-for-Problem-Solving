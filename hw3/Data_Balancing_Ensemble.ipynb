{
 "cells": [
  {
   "cell_type": "markdown",
   "metadata": {},
   "source": [
    "# Tree-based (Ensemble) Models and Handling Imbalanced Data [30 points]\n",
    "\n",
    "For this problem, we will use the wine quality dataset on which the task is a binary classification of whether a given wine is of low or high quality based on different physicochemical features.\n",
    " \n",
    "The dataset consists of a set of physicochemical features as inputs and the target is wine quality stored in the target column, where a value of 1 corresponds to an instance of high quality wine and -1 corresponds to an instance of low quality ones."
   ]
  },
  {
   "cell_type": "markdown",
   "metadata": {},
   "source": [
    "### Loading the data (3pts)\n",
    "Load the data from library."
   ]
  },
  {
   "cell_type": "code",
   "execution_count": 1,
   "metadata": {},
   "outputs": [
    {
     "name": "stderr",
     "output_type": "stream",
     "text": [
      "Using TensorFlow backend.\n"
     ]
    }
   ],
   "source": [
    "# Use wine dataset from imlearn\n",
    "from imblearn.datasets import fetch_datasets\n",
    "import numpy as np\n",
    "import pandas as pd\n",
    "\n",
    "datasets = fetch_datasets()\n",
    "\n",
    "# Wine quality dataset contains 12 features, descriptions found here: \n",
    "# https://archive.ics.uci.edu/ml/datasets/wine+quality\n",
    "data = datasets['wine_quality']\n",
    "\n",
    "X, y = data.data, data.target\n",
    "\n",
    "# Use X_train, X_test, y_train, y_test for all of the following questions\n",
    "from sklearn.model_selection import train_test_split\n",
    "\n",
    "X_train, X_test, y_train, y_test = train_test_split(X, y, random_state=0)"
   ]
  },
  {
   "cell_type": "markdown",
   "metadata": {},
   "source": [
    "**Question:** Draw the class distribution of the dataset. What are possible problems if we train a classification model directly on this dataset?"
   ]
  },
  {
   "cell_type": "markdown",
   "metadata": {},
   "source": [
    "The data is imbalanced. Percenage of negative instances is much larger than that of positive instances."
   ]
  },
  {
   "cell_type": "code",
   "execution_count": 2,
   "metadata": {},
   "outputs": [
    {
     "name": "stdout",
     "output_type": "stream",
     "text": [
      "Percentage of high quality observations 0.03736218864842793\n"
     ]
    },
    {
     "data": {
      "text/plain": [
       "<matplotlib.axes._subplots.AxesSubplot at 0x23a935448d0>"
      ]
     },
     "execution_count": 2,
     "metadata": {},
     "output_type": "execute_result"
    }
   ],
   "source": [
    "# import libraries for plotting class distribution\n",
    "import matplotlib.pyplot as plt\n",
    "import seaborn as sns\n",
    "\n",
    "high_quality_ratio = len([i for i in y if i==1])/len(y)\n",
    "print('Percentage of high quality observations', high_quality_ratio)\n",
    "\n",
    "# color coding for 2 classes\n",
    "colors = [\"#0101DF\", \"#DF0101\"]\n",
    "## code to plot the class distribution. Hint: countplot in seaborn\n",
    "sns.countplot(x=y,palette=colors)"
   ]
  },
  {
   "cell_type": "markdown",
   "metadata": {},
   "source": [
    "### Training and testing a Random Forest classfier directly on the data (3pts)\n",
    "\n",
    "Let's first train a random forest classifier with default parameters using X_train and y_train and test the performance on the test data."
   ]
  },
  {
   "cell_type": "code",
   "execution_count": 3,
   "metadata": {},
   "outputs": [
    {
     "name": "stdout",
     "output_type": "stream",
     "text": [
      "Random forest classifier accuray: 0.9510204081632653\n",
      "Random forest classifier recall: 0.10606060606060606\n"
     ]
    }
   ],
   "source": [
    "from sklearn.ensemble import RandomForestClassifier # class for random forest classifier\n",
    "from sklearn.metrics import accuracy_score\n",
    "from sklearn.metrics import recall_score\n",
    "\n",
    "## Instantiate and fit a random forest classifier to the training data\n",
    "rf=RandomForestClassifier(random_state=42)\n",
    "rf.fit(X_train, y_train)\n",
    "y_test_pred = rf.predict(X_test)\n",
    "## Measure and print out the accuracy and recall\n",
    "test_acc = (y_test_pred==y_test).sum()/len(y_test)\n",
    "\n",
    "print('Random forest classifier accuray:', test_acc)\n",
    "\n",
    "test_recall = recall_score(y_test,y_test_pred)\n",
    "\n",
    "print('Random forest classifier recall:', test_recall)"
   ]
  },
  {
   "cell_type": "markdown",
   "metadata": {},
   "source": [
    "**Quetion:** Compute the recall and accuracy scores of the random forest classifier. How is the gap between the accuracy and recall scores? Provide an explanation.\n",
    "\n",
    "The accuracy is high while the recall rate is very low.\n",
    "\n",
    "Resons:\n",
    "a) The default parameter of \"average\" in recall_score is \"binary\", which will only reports results for class specified by pos_lable, which is 1. \n",
    "b) The rate is low since the train data is imbanlanced and there are few positive samples, thus the model cannot predict positive labels well.\n",
    "c) While for accuracy, it's computed based on results of 2 classes, and positive class has very small proportion, so the lobal accuracy rate is really high and the \"binary\" recall rate for positive labels is really low.\n",
    "d) If we use average='weighted', than the gap can be eliminated since it's computed on global view."
   ]
  },
  {
   "cell_type": "markdown",
   "metadata": {},
   "source": [
    "### Data balancing via Smote (6pts)"
   ]
  },
  {
   "cell_type": "code",
   "execution_count": 4,
   "metadata": {},
   "outputs": [
    {
     "name": "stdout",
     "output_type": "stream",
     "text": [
      "Percentage of high quality counts in the balanced data:50.0%\n"
     ]
    }
   ],
   "source": [
    "from imblearn.over_sampling import SMOTE #Over sampling\n",
    "import numpy as np\n",
    "\n",
    "## Instantiate smote and balance training data only\n",
    "sm=SMOTE(random_state=42)\n",
    "X_train_res,y_train_res=sm.fit_resample(X_train,y_train)\n",
    "## Compute and print percentage of high quality wine after balancing\n",
    "print('Percentage of high quality counts in the balanced data:{}%'.format(sum(y_train_res==1)*100/len(y_train_res)))"
   ]
  },
  {
   "cell_type": "markdown",
   "metadata": {},
   "source": [
    "**Question:** Plot the distribution of balanced training data."
   ]
  },
  {
   "cell_type": "code",
   "execution_count": 5,
   "metadata": {},
   "outputs": [
    {
     "data": {
      "text/plain": [
       "<matplotlib.axes._subplots.AxesSubplot at 0x23a957a5978>"
      ]
     },
     "execution_count": 5,
     "metadata": {},
     "output_type": "execute_result"
    },
    {
     "data": {
      "image/png": "[encoded data removed]",
      "text/plain": [
       "<Figure size 432x288 with 1 Axes>"
      ]
     },
     "metadata": {
      "needs_background": "light"
     },
     "output_type": "display_data"
    }
   ],
   "source": [
    "colors = [\"#0101DF\", \"#DF0101\"]\n",
    "## plot the class distribution of training data after balanced\n",
    "sns.countplot(x=y_train_res,palette=colors)"
   ]
  },
  {
   "cell_type": "markdown",
   "metadata": {},
   "source": [
    "Let's retrain and test our random forest model on the balanced training data"
   ]
  },
  {
   "cell_type": "code",
   "execution_count": 6,
   "metadata": {},
   "outputs": [
    {
     "name": "stdout",
     "output_type": "stream",
     "text": [
      "Random forest classifier accuray: 0.9469387755102041\n",
      "Random forest classifier recall: 0.3181818181818182\n"
     ]
    }
   ],
   "source": [
    "## Instantiate random forest and train on balanced training data\n",
    "# X_train_res, X_test_res, y_train_res, y_test_res = train_test_split(X_res, y_res, random_state=0)\n",
    "rf2=RandomForestClassifier(random_state=42)\n",
    "rf2.fit(X_train_res, y_train_res)\n",
    "y_test_pred=rf2.predict(X_test)\n",
    "test_acc = sum(y_test_pred==y_test)/len(y_test)\n",
    "\n",
    "print('Random forest classifier accuray:', test_acc)\n",
    "\n",
    "test_recall = recall_score(y_test,y_test_pred)\n",
    "\n",
    "print('Random forest classifier recall:', test_recall)"
   ]
  },
  {
   "cell_type": "code",
   "execution_count": 7,
   "metadata": {},
   "outputs": [
    {
     "name": "stdout",
     "output_type": "stream",
     "text": [
      "TP is: 21\n",
      "FN is: 45\n"
     ]
    },
    {
     "data": {
      "text/plain": [
       "0.3181818181818182"
      ]
     },
     "execution_count": 7,
     "metadata": {},
     "output_type": "execute_result"
    }
   ],
   "source": [
    "#test\n",
    "TP=sum(y_test[y_test_pred==1]==1)\n",
    "print('TP is:',TP)\n",
    "FN=sum(y_test[y_test_pred==-1]==1)\n",
    "print('FN is:',FN)\n",
    "TP/(TP+FN)"
   ]
  },
  {
   "cell_type": "markdown",
   "metadata": {},
   "source": [
    "**Question:** Compute the recall and accuracy scores of the new random forest classifier. How do the accuracy and recall change compared to those without data balancing?\n",
    "\n",
    "a) The accuracy decrease a bit since the threshold of positive labels is lower and will have more false positive cases\n",
    "b) Recall score increase since the training samples with positive labels increase and the model now can have better prediction for positive labels"
   ]
  },
  {
   "cell_type": "markdown",
   "metadata": {},
   "source": [
    "### Control complexity of the model (18pts)\n",
    "\n",
    "#### Control the depth of decision trees in our ensemble (6pts)\n",
    "By default, the decision trees in random forest are expanded until all leaves are pure or until all leaves contain less than a certain number set by min_samples_split parameter. Let's try a fixed maximum depth that the tree can expand."
   ]
  },
  {
   "cell_type": "code",
   "execution_count": 8,
   "metadata": {},
   "outputs": [
    {
     "name": "stdout",
     "output_type": "stream",
     "text": [
      "Random forest classifier accuray: 0.8448979591836735\n",
      "Random forest classifier recall: 0.5757575757575758\n"
     ]
    }
   ],
   "source": [
    "## Instantiate model with max depth trees being 3\n",
    "rf3=RandomForestClassifier(max_depth=3,random_state=42)\n",
    "rf3.fit(X_train_res, y_train_res)\n",
    "y_test_pred=rf3.predict(X_test)\n",
    "test_acc = sum(y_test_pred==y_test)/len(y_test)\n",
    "\n",
    "print('Random forest classifier accuray:', test_acc)\n",
    "\n",
    "test_recall = recall_score(y_test,y_test_pred)\n",
    "\n",
    "print('Random forest classifier recall:', test_recall)"
   ]
  },
  {
   "cell_type": "markdown",
   "metadata": {},
   "source": [
    "**Question:** Compute the recall and accuracy scores of the new random forest classifier. How do the accuracy and recall change compared to those in the default parameter case?\n",
    "\n",
    "The accuracy is lower since the max depth is fixed and may lead to underfitting.\n",
    "The recall is higher."
   ]
  },
  {
   "cell_type": "code",
   "execution_count": 9,
   "metadata": {},
   "outputs": [
    {
     "name": "stdout",
     "output_type": "stream",
     "text": [
      "TP is: 38\n",
      "FN is: 28\n"
     ]
    },
    {
     "data": {
      "text/plain": [
       "0.5757575757575758"
      ]
     },
     "execution_count": 9,
     "metadata": {},
     "output_type": "execute_result"
    }
   ],
   "source": [
    "#test\n",
    "TP=sum(y_test[y_test_pred==1]==1)\n",
    "print('TP is:',TP)\n",
    "FN=sum(y_test[y_test_pred==-1]==1)\n",
    "print('FN is:',FN)\n",
    "TP/(TP+FN)"
   ]
  },
  {
   "cell_type": "markdown",
   "metadata": {},
   "source": [
    "#### Choose the number of trees in the forest (6pts)\n",
    "By default, we use 10 random trees. Let's increase this number to 100"
   ]
  },
  {
   "cell_type": "code",
   "execution_count": 13,
   "metadata": {
    "code_folding": []
   },
   "outputs": [
    {
     "name": "stdout",
     "output_type": "stream",
     "text": [
      "Random forest classifier accuray: 0.8318367346938775\n",
      "Random forest classifier recall: 0.5454545454545454\n"
     ]
    }
   ],
   "source": [
    "## Instantiate model with max depth of 3 and 100 decision trees\n",
    "rf4=RandomForestClassifier(max_depth=3,random_state=42,n_estimators=1000)\n",
    "rf4.fit(X_train_res, y_train_res)\n",
    "y_test_pred=rf4.predict(X_test)\n",
    "test_acc = sum(y_test_pred==y_test)/len(y_test)\n",
    "\n",
    "print('Random forest classifier accuray:', test_acc)\n",
    "\n",
    "test_recall = recall_score(y_test,y_test_pred)\n",
    "\n",
    "print('Random forest classifier recall:', test_recall)"
   ]
  },
  {
   "cell_type": "markdown",
   "metadata": {},
   "source": [
    "**Question:** Compute the recall and accuracy scores of the random forest classifier. How do the accuracy and recall change compared to those with 10 trees? What do the results imply about increasing the number of trees?"
   ]
  },
  {
   "cell_type": "markdown",
   "metadata": {},
   "source": [
    "Note: Since the default n_estimators is 100 rather than 10, which is the default value mentioned in the question, so here I use n_estimators=1000 to compare.\n",
    "The accuracy and recall both decrease, maybe too many trees cause overfit."
   ]
  },
  {
   "cell_type": "markdown",
   "metadata": {},
   "source": [
    "#### Tree pruning by min_impurity_decrease (6pts)\n",
    "By default, the tree keeps expanding until the impurity is 0. However, we can specify a minimum impurity decrease amount under which nodes in the tree stop branching. RandomForestClassifier in sklearn use min_impurity_decrease for setting this threshold. Let's try that on our problem."
   ]
  },
  {
   "cell_type": "code",
   "execution_count": 15,
   "metadata": {},
   "outputs": [
    {
     "name": "stdout",
     "output_type": "stream",
     "text": [
      "Random forest classifier accuray: 0.9151020408163265\n",
      "Random forest classifier recall: 0.4696969696969697\n"
     ]
    }
   ],
   "source": [
    "## Instantiate model with min impurity decrease of 0.001\n",
    "rf5=RandomForestClassifier(random_state=42,min_impurity_decrease=0.001)\n",
    "rf5.fit(X_train_res, y_train_res)\n",
    "y_test_pred=rf5.predict(X_test)\n",
    "test_acc = sum(y_test_pred==y_test)/len(y_test)\n",
    "\n",
    "print('Random forest classifier accuray:', test_acc)\n",
    "\n",
    "test_recall = recall_score(y_test,y_test_pred)\n",
    "\n",
    "print('Random forest classifier recall:', test_recall)"
   ]
  },
  {
   "cell_type": "markdown",
   "metadata": {},
   "source": [
    "**Question:** Compute the recall and accuracy scores of the random forest classifier. How does the recall change compared to those with 10 trees and max_depth = 3?"
   ]
  },
  {
   "cell_type": "markdown",
   "metadata": {},
   "source": [
    "The accuracy increase and recall decrease. Since seting a minimum impurity can prevent overfitting."
   ]
  }
 ],
 "metadata": {
  "coursera": {
   "course_slug": "python-machine-learning",
   "graded_item_id": "5yX9Z",
   "launcher_item_id": "eqnV3",
   "part_id": "Msnj0"
  },
  "kernelspec": {
   "display_name": "Python 3",
   "language": "python",
   "name": "python3"
  },
  "language_info": {
   "codemirror_mode": {
    "name": "ipython",
    "version": 3
   },
   "file_extension": ".py",
   "mimetype": "text/x-python",
   "name": "python",
   "nbconvert_exporter": "python",
   "pygments_lexer": "ipython3",
   "version": "3.7.3"
  },
  "toc": {
   "base_numbering": 1,
   "nav_menu": {},
   "number_sections": true,
   "sideBar": true,
   "skip_h1_title": false,
   "title_cell": "Table of Contents",
   "title_sidebar": "Contents",
   "toc_cell": false,
   "toc_position": {},
   "toc_section_display": true,
   "toc_window_display": false
  },
  "varInspector": {
   "cols": {
    "lenName": 16,
    "lenType": 16,
    "lenVar": 40
   },
   "kernels_config": {
    "python": {
     "delete_cmd_postfix": "",
     "delete_cmd_prefix": "del ",
     "library": "var_list.py",
     "varRefreshCmd": "print(var_dic_list())"
    },
    "r": {
     "delete_cmd_postfix": ") ",
     "delete_cmd_prefix": "rm(",
     "library": "var_list.r",
     "varRefreshCmd": "cat(var_dic_list()) "
    }
   },
   "types_to_exclude": [
    "module",
    "function",
    "builtin_function_or_method",
    "instance",
    "_Feature"
   ],
   "window_display": false
  }
 },
 "nbformat": 4,
 "nbformat_minor": 2
}
